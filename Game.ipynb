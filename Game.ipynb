{
 "cells": [
  {
   "cell_type": "code",
   "execution_count": 1,
   "id": "0ee86b9b-f26a-4b4a-a650-b486c96c0b6b",
   "metadata": {},
   "outputs": [
    {
     "name": "stdout",
     "output_type": "stream",
     "text": [
      "Welcome to the Equation solver game\n"
     ]
    },
    {
     "name": "stdin",
     "output_type": "stream",
     "text": [
      "Are you ready to play the game? Press Enter to continue. \n"
     ]
    },
    {
     "name": "stdout",
     "output_type": "stream",
     "text": [
      "Problem 1: 3 * 8 = ?\n"
     ]
    },
    {
     "name": "stdin",
     "output_type": "stream",
     "text": [
      "Enter your answer:  24\n"
     ]
    },
    {
     "name": "stdout",
     "output_type": "stream",
     "text": [
      "Correct answer!\n",
      "Problem 2: 5 * 3 = ?\n"
     ]
    },
    {
     "name": "stdin",
     "output_type": "stream",
     "text": [
      "Enter your answer:  15\n"
     ]
    },
    {
     "name": "stdout",
     "output_type": "stream",
     "text": [
      "Correct answer!\n",
      "Problem 3: 2 * 4 = ?\n"
     ]
    },
    {
     "name": "stdin",
     "output_type": "stream",
     "text": [
      "Enter your answer:  eight\n"
     ]
    },
    {
     "name": "stdout",
     "output_type": "stream",
     "text": [
      "Invalid input! Please enter a valid number.\n"
     ]
    },
    {
     "name": "stdin",
     "output_type": "stream",
     "text": [
      "Enter your answer:  8j\n"
     ]
    },
    {
     "name": "stdout",
     "output_type": "stream",
     "text": [
      "Invalid input! Please enter a valid number.\n"
     ]
    },
    {
     "name": "stdin",
     "output_type": "stream",
     "text": [
      "Enter your answer:  8\n"
     ]
    },
    {
     "name": "stdout",
     "output_type": "stream",
     "text": [
      "Correct answer!\n",
      "Problem 4: 8 + 8 = ?\n"
     ]
    },
    {
     "name": "stdin",
     "output_type": "stream",
     "text": [
      "Enter your answer:  16\n"
     ]
    },
    {
     "name": "stdout",
     "output_type": "stream",
     "text": [
      "Correct answer!\n",
      "Problem 5: 10 - 5 = ?\n"
     ]
    },
    {
     "name": "stdin",
     "output_type": "stream",
     "text": [
      "Enter your answer:  5\n"
     ]
    },
    {
     "name": "stdout",
     "output_type": "stream",
     "text": [
      "Correct answer!\n",
      "Problem 6: 4 - 5 = ?\n"
     ]
    },
    {
     "name": "stdin",
     "output_type": "stream",
     "text": [
      "Enter your answer:  -1\n"
     ]
    },
    {
     "name": "stdout",
     "output_type": "stream",
     "text": [
      "Correct answer!\n",
      "Problem 7: 1 + 7 = ?\n"
     ]
    },
    {
     "name": "stdin",
     "output_type": "stream",
     "text": [
      "Enter your answer:  7\n"
     ]
    },
    {
     "name": "stdout",
     "output_type": "stream",
     "text": [
      "Incorrect answer! The correct answer was 8.\n",
      "Problem 8: 4 + 6 = ?\n"
     ]
    },
    {
     "name": "stdin",
     "output_type": "stream",
     "text": [
      "Enter your answer:  8\n"
     ]
    },
    {
     "name": "stdout",
     "output_type": "stream",
     "text": [
      "Incorrect answer! The correct answer was 10.\n",
      "Problem 9: 6 * 10 = ?\n"
     ]
    },
    {
     "name": "stdin",
     "output_type": "stream",
     "text": [
      "Enter your answer:  60\n"
     ]
    },
    {
     "name": "stdout",
     "output_type": "stream",
     "text": [
      "Correct answer!\n",
      "Problem 10: 3 + 8 = ?\n"
     ]
    },
    {
     "name": "stdin",
     "output_type": "stream",
     "text": [
      "Enter your answer:  11\n"
     ]
    },
    {
     "name": "stdout",
     "output_type": "stream",
     "text": [
      "Correct answer!\n",
      "You finished in 105 seconds...\n"
     ]
    }
   ],
   "source": [
    "import random\n",
    "import time\n",
    "\n",
    "start_value = 1\n",
    "end_value = 10\n",
    "operators = [\"+\", \"-\", \"*\"]\n",
    "number_of_question = 10\n",
    "\n",
    "def math_quiz():\n",
    "    left = random.randint(start_value, end_value)\n",
    "    right = random.randint(start_value, end_value)\n",
    "    operator = random.choice(operators)\n",
    "    question = str(left) + \" \" + operator + \" \" + str(right)\n",
    "    answer = eval(question) \n",
    "    return question, answer\n",
    "\n",
    "def get_user_answer():\n",
    "    while True:\n",
    "        try:\n",
    "            user_input = input(\"Enter your answer: \")\n",
    "            user_answer = float(user_input)\n",
    "            return user_answer\n",
    "        except ValueError:\n",
    "            print(\"Invalid input! Please enter a valid number.\")\n",
    "\n",
    "print(\"Welcome to the Equation solver game\")\n",
    "input(\"Are you ready to play the game? Press Enter to continue.\")\n",
    "\n",
    "start_time = time.time()  \n",
    "\n",
    "for i in range(number_of_question):\n",
    "    question, answer = math_quiz()  \n",
    "    print(f\"Problem {i+1}: {question} = ?\")\n",
    "    user_answer = get_user_answer()\n",
    "\n",
    "    if abs(user_answer - answer) < 0.001: \n",
    "        print(\"Correct answer!\")\n",
    "    else:\n",
    "        print(f\"Incorrect answer! The correct answer was {answer}.\")\n",
    "\n",
    "end_time = time.time()  \n",
    "total_time = round(end_time - start_time)\n",
    "print('You finished in', total_time, \"seconds...\")"
   ]
  },
  {
   "cell_type": "code",
   "execution_count": null,
   "id": "066d9280-59ab-4a2c-b229-611d50fb80b9",
   "metadata": {},
   "outputs": [],
   "source": []
  }
 ],
 "metadata": {
  "kernelspec": {
   "display_name": "Python 3 (ipykernel)",
   "language": "python",
   "name": "python3"
  },
  "language_info": {
   "codemirror_mode": {
    "name": "ipython",
    "version": 3
   },
   "file_extension": ".py",
   "mimetype": "text/x-python",
   "name": "python",
   "nbconvert_exporter": "python",
   "pygments_lexer": "ipython3",
   "version": "3.12.4"
  }
 },
 "nbformat": 4,
 "nbformat_minor": 5
}
